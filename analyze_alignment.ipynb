{
 "cells": [
  {
   "cell_type": "markdown",
   "id": "cd393893-a3bb-432f-b30c-bf8a6d521889",
   "metadata": {},
   "source": [
    "# Analyze the alignment"
   ]
  },
  {
   "cell_type": "code",
   "execution_count": null,
   "id": "59caa115-6c1f-4223-a6e8-82650847e973",
   "metadata": {},
   "outputs": [],
   "source": [
    "import collections\n",
    "\n",
    "import Bio.SeqIO\n",
    "\n",
    "import pandas as pd"
   ]
  },
  {
   "cell_type": "code",
   "execution_count": null,
   "id": "fdba7a96-b311-417c-8057-e6716927146c",
   "metadata": {},
   "outputs": [],
   "source": [
    "alignmentfile = \"results/alignment.fa\""
   ]
  },
  {
   "cell_type": "code",
   "execution_count": null,
   "id": "6590e9a9-57f6-463e-b155-2f03a8ecb173",
   "metadata": {},
   "outputs": [],
   "source": [
    "alignment = {str(s.id): str(s.seq) for s in Bio.SeqIO.parse(alignmentfile, \"fasta\")}"
   ]
  },
  {
   "cell_type": "code",
   "execution_count": null,
   "id": "ecb071cf-c67b-4153-bef7-e52127dfd268",
   "metadata": {},
   "outputs": [],
   "source": [
    "# none of the sites 3778, 8388, 8987, or 29871 are ones where Wuhan-Hu-1 differs from RaTG13\n",
    "verified_mismatches = {  # in Wuhan-Hu-1 numbering\n",
    "    **{\n",
    "        site: \"true gap relative to Wuhan-Hu-1 (before first site in submitted sequence numbering); this is in 5' UTR\"\n",
    "        for site in range(1, 16)\n",
    "    },\n",
    "    3778: \"true a>g mismatch relative to Wuhan-Hu-1 (3763 in submitted sequence numbering); this is in ORF1a\",\n",
    "    8388: \"true a>g mismatch relative to Wuhan-Hu-1 (8373 in submitted sequence numbering); this is in ORF1a\",\n",
    "    8987: \"true t>a mismatch relative to Wuhan-Hu-1 (8972 in submitted sequence numbering); this is in ORF1a\",\n",
    "    **{\n",
    "        site: \"true gap relative to Wuhan-Hu-1 (site 1100 in submitted sequence numbering); this is in ORF1a\"\n",
    "        for site in range(11116, 11201)\n",
    "    },\n",
    "    **{\n",
    "        site: \"true gap relative to Wuhan-Hu-1 (site 27613 in submitted sequence numbering); this is in ORF7a-b\"\n",
    "        for site in range(27714, 27801)\n",
    "    },\n",
    "    29871: \"true a>t mismatch relative to Wuhan-Hu-1 (last site, 29684, in submitted sequence numbering); this is in 3' UTR\",\n",
    "    **{\n",
    "        site: \"true gap relative to Wuhan-Hu-1 (after last site in submitted sequencing numbering); this is in 3' UTR\"\n",
    "        for site in range(29872, 29904)\n",
    "    },\n",
    "}"
   ]
  },
  {
   "cell_type": "code",
   "execution_count": null,
   "id": "e27ca2a1-6fca-4887-9517-b5dc310d1086",
   "metadata": {},
   "outputs": [],
   "source": [
    "site = {seqname: 0 for seqname in alignment}\n",
    "\n",
    "alignment_length = len(list(alignment.values())[0])\n",
    "assert all(alignment_length == len(s) for s in alignment.values())\n",
    "\n",
    "d = collections.defaultdict(list)\n",
    "for i in range(alignment_length):\n",
    "    d[\"alignment_position\"].append(i + 1)\n",
    "    for seqname, seq in alignment.items():\n",
    "        if seq[i] != \"-\":\n",
    "            assert seq[i] in \"acgt\", seq[i]\n",
    "            site[seqname] += 1\n",
    "            d[f\"{seqname} site\"].append(site[seqname])\n",
    "            d[f\"{seqname} nt\"].append(seq[i])\n",
    "        else:\n",
    "            d[f\"{seqname} site\"].append(site[seqname])\n",
    "            d[f\"{seqname} nt\"].append(\"-\")\n",
    "df = pd.DataFrame(d)\n",
    "\n",
    "assert set(verified_mismatches).issubset(\n",
    "    df[df[\"SARS-CoV-2_28Dec2019_submission nt\"] != df[\"NC_045512.2 nt\"]][\"NC_045512.2 site\"]\n",
    ")\n",
    "\n",
    "assert not len(\n",
    "    df[df[\"SARS-CoV-2_28Dec2019_submission nt\"] != df[\"NC_045512.2 nt\"]]\n",
    "    .query(\"`NC_045512.2 site` not in @verified_mismatches\")\n",
    ")"
   ]
  },
  {
   "cell_type": "code",
   "execution_count": null,
   "id": "ebd9e221-77fd-4d86-8702-e7bcd29f81b8",
   "metadata": {},
   "outputs": [],
   "source": [
    "for other in list(alignment)[1: ]:\n",
    "    print(f\"\\nDifferences with {other}\")\n",
    "    diffs = (\n",
    "        df[df[\"SARS-CoV-2_28Dec2019_submission nt\"] != df[f\"{other} nt\"]]\n",
    "        .groupby([\"SARS-CoV-2_28Dec2019_submission nt\", \"SARS-CoV-2_28Dec2019_submission site\"], as_index=False, sort=False)\n",
    "        .aggregate(\n",
    "            reference_site=pd.NamedAgg(\n",
    "                \"NC_045512.2 site\",\n",
    "                lambda s: list(s)[0] if len(s) == 1 else f\"{list(s)[0]}-{list(s)[-1]}\",\n",
    "            )\n",
    "        )\n",
    "        .merge(df.rename(columns={\"NC_045512.2 site\": \"reference_site\"}), how=\"left\")\n",
    "        .drop(columns=[\"SARS-CoV-2_28Dec2019_submission site\", \"alignment_position\", \"GWHABKF00000001 site\"])\n",
    "    )\n",
    "    display(diffs)"
   ]
  },
  {
   "cell_type": "code",
   "execution_count": null,
   "id": "f7f9ecad-7376-4a59-ae25-6ff90fdc8662",
   "metadata": {},
   "outputs": [],
   "source": []
  }
 ],
 "metadata": {
  "kernelspec": {
   "display_name": "Python 3 (ipykernel)",
   "language": "python",
   "name": "python3"
  },
  "language_info": {
   "codemirror_mode": {
    "name": "ipython",
    "version": 3
   },
   "file_extension": ".py",
   "mimetype": "text/x-python",
   "name": "python",
   "nbconvert_exporter": "python",
   "pygments_lexer": "ipython3",
   "version": "3.11.7"
  }
 },
 "nbformat": 4,
 "nbformat_minor": 5
}
